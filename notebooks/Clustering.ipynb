{
  "nbformat": 4,
  "nbformat_minor": 0,
  "metadata": {
    "colab": {
      "provenance": []
    },
    "kernelspec": {
      "name": "python3",
      "display_name": "Python 3"
    },
    "language_info": {
      "name": "python"
    }
  },
  "cells": [
    {
      "cell_type": "markdown",
      "source": [
        "# Here we are using clustering so that we can group soums (districts) that have similar demograpics, financial behaviours, economic structures and etc.\n",
        "\n",
        "\n",
        "---\n",
        "For example, very high-population or high-loan soums can skew models. Clustering lets you analyze them separately in their own segment.\n"
      ],
      "metadata": {
        "id": "1tTwJ5aAoyq2"
      }
    },
    {
      "cell_type": "code",
      "source": [
        "import pandas as pd\n",
        "merged_df = pd.read_excel(\"/content/merged_df.xlsx\")"
      ],
      "metadata": {
        "id": "xN1jO63to1I6"
      },
      "execution_count": 3,
      "outputs": []
    },
    {
      "cell_type": "code",
      "source": [
        "import pandas as pd\n",
        "from sklearn.preprocessing import StandardScaler, OneHotEncoder\n",
        "from sklearn.compose import ColumnTransformer\n",
        "from sklearn.pipeline import Pipeline\n",
        "from sklearn.cluster import KMeans\n",
        "from sklearn.metrics import silhouette_score\n",
        "\n",
        "categorical_cols = ['City', 'District']\n",
        "numerical_cols = [\n",
        "    'Population', 'Total_kids', 'Total_working', 'Total_olders',\n",
        "    'Percentage_kids', 'Percentage_working', 'Percentage_olders',\n",
        "    'Total_loan_balance', 'Total_loans_accounts', 'Total_balances',\n",
        "    'Total_current_accounts', 'Total_deposits', 'Total_deposits_accounts',\n",
        "    'Golomt_branches', 'Companies', 'Normal', 'Delinquent', 'Overdue',\n",
        "    'Time_deposits', 'Timeless_deposits', 'Total_banks_branches'\n",
        "]\n",
        "\n",
        "preprocessor = ColumnTransformer(\n",
        "    transformers=[\n",
        "        ('num', StandardScaler(), numerical_cols),\n",
        "        ('cat', OneHotEncoder(handle_unknown='ignore', sparse_output=False), categorical_cols)\n",
        "    ]\n",
        ")\n",
        "\n",
        "pipeline = Pipeline(steps=[\n",
        "    ('preprocessor', preprocessor),\n",
        "    ('kmeans', KMeans(n_clusters=4, random_state=42, n_init='auto'))\n",
        "])\n",
        "\n",
        "pipeline.fit(merged_df)\n",
        "\n",
        "merged_df['cluster'] = pipeline.predict(merged_df)"
      ],
      "metadata": {
        "id": "4XOFEQ5XqEPn"
      },
      "execution_count": 11,
      "outputs": []
    },
    {
      "cell_type": "code",
      "source": [
        "# Show all rows that belong to cluster 1 (to check whether the clustering makes sense)\n",
        "cluster_0_data = merged_df[merged_df['cluster'] == 1]\n",
        "print(cluster_0_data)\n"
      ],
      "metadata": {
        "colab": {
          "base_uri": "https://localhost:8080/"
        },
        "id": "OADmJCl-qJZz",
        "outputId": "cb49f580-f402-4ea5-85c2-e3305768ff4a"
      },
      "execution_count": 12,
      "outputs": [
        {
          "output_type": "stream",
          "name": "stdout",
          "text": [
            "           City      District  Companies  Population  Total_kids  \\\n",
            "16   говь-алтай     есөнбулаг        440       18880        5811   \n",
            "32       завхан      улиастай        613       16115        4844   \n",
            "58          увс      улаангом        958       33966       11463   \n",
            "75         ховд     жаргалант       1284       34532       12050   \n",
            "93     архангай  эрдэнэбулган        481       21649        6721   \n",
            "114  баянхонгор    баянхонгор        792       31307       11376   \n",
            "148  өвөрхангай     арвайхээр        698       37361       12681   \n",
            "168     хөвсгөл         мөрөн        888       43338       13600   \n",
            "185   дорноговь      сайншанд        764       28492        9408   \n",
            "186   дорноговь     замын-үүд        265       18359        6023   \n",
            "211    өмнөговь       ханбогд        365        9533        2709   \n",
            "215    өмнөговь     цогтцэций        291       10752        4139   \n",
            "216    өмнөговь   даланзадгад       1324       32674       11481   \n",
            "220     сэлэнгэ        мандал        464       26475        7835   \n",
            "253         төв       зуунмод        449       17528        5753   \n",
            "278      дорнод        хэрлэн       1198       47304       15907   \n",
            "291   сүхбаатар    баруун-урт        473       24915        9006   \n",
            "306      хэнтий        хэрлэн        570       24764        8202   \n",
            "\n",
            "     Total_working  Total_olders  Percentage_kids  Percentage_working  \\\n",
            "16           12036          1033         0.307786            0.637500   \n",
            "32           10193          1078         0.300590            0.632516   \n",
            "58           20831          1672         0.337485            0.613290   \n",
            "75           20778          1704         0.348952            0.601703   \n",
            "93           13459          1469         0.310453            0.621692   \n",
            "114          19931             0         0.363369            0.636631   \n",
            "148          22705          1975         0.339418            0.607719   \n",
            "168          27241          2497         0.313812            0.628571   \n",
            "185          17440          1644         0.330198            0.612102   \n",
            "186          11843           493         0.328068            0.645079   \n",
            "211           6599           225         0.284171            0.692227   \n",
            "215           6410           203         0.384952            0.596168   \n",
            "216          19623          1570         0.351380            0.600569   \n",
            "220          16982          1658         0.295940            0.641435   \n",
            "253          10471          1304         0.328218            0.597387   \n",
            "278          28560          2837         0.336272            0.603754   \n",
            "291          14434          1475         0.361469            0.579330   \n",
            "306          15051          1511         0.331207            0.607777   \n",
            "\n",
            "     Percentage_olders  ...      Overdue  Total_balances  \\\n",
            "16            0.054714  ...  1315.036011    26645.609918   \n",
            "32            0.066894  ...  1403.155490    22595.663088   \n",
            "58            0.049226  ...  2907.959393    51723.496403   \n",
            "75            0.049346  ...  5203.217999    59013.129702   \n",
            "93            0.067855  ...   874.148135    28616.882469   \n",
            "114           0.000000  ...  6002.972551    40011.434574   \n",
            "148           0.052863  ...  3496.944762    44260.494883   \n",
            "168           0.057617  ...  4682.464403    53810.214884   \n",
            "185           0.057700  ...  5671.249780    57474.840809   \n",
            "186           0.026853  ...  4743.052702    34899.487842   \n",
            "211           0.023602  ...  5006.988641    26843.008281   \n",
            "215           0.018880  ...  5095.588462    79395.166570   \n",
            "216           0.048050  ...  5792.821733   370301.614598   \n",
            "220           0.062625  ...  1597.239911    26032.712125   \n",
            "253           0.074395  ...  3442.230304    27520.265824   \n",
            "278           0.059974  ...  8066.247610    64278.318906   \n",
            "291           0.059201  ...   915.316124    31805.126654   \n",
            "306           0.061016  ...   959.803574    16899.453091   \n",
            "\n",
            "     Total_current_accounts  Total_deposits  Total_deposits_accounts  \\\n",
            "16                    39185    71761.550029                    20447   \n",
            "32                    41784    85985.613157                    24460   \n",
            "58                    72978   135997.445504                    36803   \n",
            "75                    86812   128114.505638                    39169   \n",
            "93                    46628    87917.214571                    20166   \n",
            "114                   82189   117620.399409                    35342   \n",
            "148                   75371   113472.534598                    35409   \n",
            "168                   92616   167348.149531                    41019   \n",
            "185                   78943   112685.017906                    35090   \n",
            "186                   47555    94014.449049                    24777   \n",
            "211                   24211    53496.453638                    13937   \n",
            "215                   32500    76517.288817                    13657   \n",
            "216                   75918   140485.545889                    38020   \n",
            "220                   54615    63575.054515                    25419   \n",
            "253                   46247    59858.619192                    18758   \n",
            "278                   99795   145070.195510                    49196   \n",
            "291                   41831    63780.901759                    18175   \n",
            "306                   34770    55404.753895                    16685   \n",
            "\n",
            "     Time_deposits  Timeless_deposits  Total_banks_branches  Golomt_branches  \\\n",
            "16    55004.188102       16757.361928                     7                0   \n",
            "32    72158.402833       13827.210324                     9                1   \n",
            "58   106283.460069       29713.985435                    10                1   \n",
            "75    99813.770449       28300.735188                    11                2   \n",
            "93    74069.311417       13847.903154                     8                1   \n",
            "114   90698.705076       26921.694333                    12                1   \n",
            "148   85699.630235       27772.904363                     9                1   \n",
            "168  136712.129293       30636.020237                    10                2   \n",
            "185   92961.861837       19723.156069                    15                2   \n",
            "186   70303.209210       23711.239839                    10                1   \n",
            "211   42692.001203       10804.452436                    10                2   \n",
            "215   68065.147545        8452.141273                     7                1   \n",
            "216  115822.825927       24662.719962                    13                1   \n",
            "220   54028.573656        9546.480859                    13                1   \n",
            "253   49447.598925       10411.020267                     5                0   \n",
            "278  114079.631675       30990.563835                    12                2   \n",
            "291   53138.800660       10642.101099                     8                1   \n",
            "306   43767.090607       11637.663288                     9                1   \n",
            "\n",
            "     cluster  \n",
            "16         1  \n",
            "32         1  \n",
            "58         1  \n",
            "75         1  \n",
            "93         1  \n",
            "114        1  \n",
            "148        1  \n",
            "168        1  \n",
            "185        1  \n",
            "186        1  \n",
            "211        1  \n",
            "215        1  \n",
            "216        1  \n",
            "220        1  \n",
            "253        1  \n",
            "278        1  \n",
            "291        1  \n",
            "306        1  \n",
            "\n",
            "[18 rows x 24 columns]\n"
          ]
        }
      ]
    },
    {
      "cell_type": "code",
      "source": [
        "print(merged_df['cluster'].value_counts())\n"
      ],
      "metadata": {
        "colab": {
          "base_uri": "https://localhost:8080/"
        },
        "id": "xq6l-_phqOSl",
        "outputId": "fc933156-aba6-4d5c-ca37-e4a3a28522e2"
      },
      "execution_count": 13,
      "outputs": [
        {
          "output_type": "stream",
          "name": "stdout",
          "text": [
            "cluster\n",
            "0    173\n",
            "2    115\n",
            "1     18\n",
            "3      2\n",
            "Name: count, dtype: int64\n"
          ]
        }
      ]
    }
  ]
}